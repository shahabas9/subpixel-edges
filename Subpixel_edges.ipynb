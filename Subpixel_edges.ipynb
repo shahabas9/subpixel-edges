{
 "cells": [
  {
   "cell_type": "code",
   "execution_count": 1,
   "id": "e75096a5",
   "metadata": {},
   "outputs": [],
   "source": [
    "import os \n",
    "import cv2\n",
    "import numpy as np\n",
    "import matplotlib.pyplot as plt\n",
    "from scipy import stats\n",
    "from subpixel_edges import subpixel_edges\n",
    "import cairo\n",
    "import warnings\n",
    "warnings.filterwarnings(\"ignore\")\n",
    "import scipy\n",
    "from csaps import csaps"
   ]
  },
  {
   "cell_type": "code",
   "execution_count": 2,
   "id": "d1b2199b",
   "metadata": {},
   "outputs": [],
   "source": [
    "def show_image(img):\n",
    "    plt.imshow(img,cmap=\"gray\")\n",
    "    plt.show()"
   ]
  },
  {
   "cell_type": "code",
   "execution_count": 3,
   "id": "249d9505",
   "metadata": {},
   "outputs": [
    {
     "name": "stdout",
     "output_type": "stream",
     "text": [
      "1.5.0\n"
     ]
    }
   ],
   "source": [
    "print(scipy.__version__)"
   ]
  },
  {
   "cell_type": "code",
   "execution_count": 8,
   "id": "9a13fdc5",
   "metadata": {
    "scrolled": true
   },
   "outputs": [
    {
     "data": {
      "image/png": "[encoded data removed]",
      "text/plain": [
       "<Figure size 640x480 with 1 Axes>"
      ]
     },
     "metadata": {},
     "output_type": "display_data"
    },
    {
     "name": "stdout",
     "output_type": "stream",
     "text": [
      "21.49667619354842 without_dust.png\n",
      "######################################\n",
      "\n",
      "\n"
     ]
    },
    {
     "data": {
      "image/png": "[encoded data removed]",
      "text/plain": [
       "<Figure size 640x480 with 1 Axes>"
      ]
     },
     "metadata": {},
     "output_type": "display_data"
    },
    {
     "name": "stdout",
     "output_type": "stream",
     "text": [
      "21.55235069839376 with_dust.png\n",
      "######################################\n",
      "\n",
      "\n"
     ]
    }
   ],
   "source": [
    "image_directory = \"/home/shahabas/SAC/Dimension_New/tele\"\n",
    "filenames = os.listdir(image_directory)\n",
    "mean_dia=[]\n",
    "\n",
    "\n",
    "for file in filenames[:]:\n",
    "    \n",
    "    input_path = os.path.join(image_directory, file)\n",
    "    image = cv2.imread(input_path)\n",
    "    \n",
    "    cropped_img=image[600:800,0:1750]\n",
    "    show_image(cropped_img)\n",
    "   \n",
    "    \n",
    "    gray = cv2.cvtColor(cropped_img, cv2.COLOR_BGR2GRAY)\n",
    "    \n",
    "    \n",
    "    _, thresholded = cv2.threshold(gray, 20, 255, cv2.THRESH_BINARY)\n",
    "    thresholded = thresholded.astype(np.uint8)\n",
    "    masked_image = cv2.bitwise_and(gray, gray, mask=thresholded).astype(float)\n",
    "    \n",
    "#     height, width = thresholded.shape[:2]\n",
    "#     three_channel_image = np.zeros((height, width, 3), dtype=np.uint8)\n",
    "#     three_channel_image[:, :, 0] = thresholded\n",
    "#     three_channel_image[:, :, 1] = thresholded\n",
    "#     three_channel_image[:, :, 2] = thresholded\n",
    "\n",
    "#     inverted_image = cv2.bitwise_not(three_channel_image)\n",
    "\n",
    "#     colour_inverted=cv2.cvtColor(inverted_image, cv2.COLOR_BGR2RGB)\n",
    "    edges = subpixel_edges(masked_image, 15, 0, 1)\n",
    "    \n",
    "    x_left=[]\n",
    "    x_right=[]\n",
    "\n",
    "    for i in edges.x:\n",
    "        if i<1000:\n",
    "            x_left.append(i)\n",
    "        else:\n",
    "            x_right.append(i)\n",
    "   \n",
    "    \n",
    "    diameter=(np.average(x_right)-np.average(x_left))/41.45 #41.28 is pixel per mm\n",
    "    print(diameter,file)\n",
    "\n",
    "    print(\"######################################\")\n",
    "    print(\"\\n\")\n",
    "    mean_dia.append(diameter)\n",
    "    \n",
    "#     plt.imshow(inverted_image)\n",
    "#     plt.show()\n",
    "#     cv2.line(inverted_image,(int(x_left_mode),0),(int(x_left_mode),200),(255,0,0),3)\n",
    "#     cv2.line(inverted_image,(int(x_right_mode),0),(int(x_right_mode),200),(255,0,0),5)\n",
    "#     plt.imshow(inverted_image)\n",
    "# #     plt.quiver(edges.x,edges.y,edges.nx,-edges.ny,scale=40,color=\"red\")\n",
    "#     plt.show()\n",
    "#     with cairo.SVGSurface(file+\".svg\",width,height) as surface:\n",
    "#         context = cairo.Context(surface)\n",
    "\n",
    "#         context.set_line_width(3)\n",
    "#         context.set_source_rgb(1, 0, 0)\n",
    "#         context.move_to(np.average(x_left), 0)\n",
    "\n",
    "#         # Draw a line to the ending point\n",
    "#         context.line_to(np.average(x_left), 200)\n",
    "\n",
    "#         context.stroke()\n",
    "\n",
    "#         context.set_line_width(3)\n",
    "#         context.set_source_rgb(0, 1, 0)\n",
    "#         context.move_to(np.average(x_right), 0)\n",
    "\n",
    "#         # Draw a line to the ending point\n",
    "#         context.line_to(np.average(x_right), 200)\n",
    "\n",
    "#         context.stroke()\n",
    "        \n",
    "#         context.set_line_width(3)\n",
    "#         context.set_source_rgb(0, 0, 1)\n",
    "#         context.move_to(np.average(x_left), 100)\n",
    "\n",
    "        # Draw a line to the ending point\n",
    "#         context.line_to(np.average(x_right), 100)\n",
    "#         context.stroke()\n",
    "\n",
    "#         context.show_page()\n",
    "#         surface.finish()"
   ]
  },
  {
   "cell_type": "code",
   "execution_count": 9,
   "id": "5c18ec79",
   "metadata": {},
   "outputs": [
    {
     "data": {
      "text/plain": [
       "[21.49667619354842, 21.55235069839376]"
      ]
     },
     "execution_count": 9,
     "metadata": {},
     "output_type": "execute_result"
    }
   ],
   "source": [
    "mean_dia"
   ]
  },
  {
   "cell_type": "code",
   "execution_count": 248,
   "id": "8ede4e28",
   "metadata": {},
   "outputs": [
    {
     "name": "stdout",
     "output_type": "stream",
     "text": [
      "[0.00112181 0.00274042 0.00243895 0.00513442 0.00564919 0.00319295\n",
      " 0.00832132 0.00219777 0.0062282  0.00127473]\n"
     ]
    }
   ],
   "source": [
    "print(np.abs(mean_dia-np.average(mean_dia)))"
   ]
  },
  {
   "cell_type": "code",
   "execution_count": 10,
   "id": "0dd28efb",
   "metadata": {},
   "outputs": [
    {
     "name": "stdout",
     "output_type": "stream",
     "text": [
      "0.0557\n"
     ]
    }
   ],
   "source": [
    "print(round(max(mean_dia)-min(mean_dia),4))"
   ]
  },
  {
   "cell_type": "code",
   "execution_count": null,
   "id": "0a4cbba7",
   "metadata": {},
   "outputs": [],
   "source": []
  },
  {
   "cell_type": "markdown",
   "id": "444f1dcb",
   "metadata": {},
   "source": [
    "# Rib Diameter Code"
   ]
  },
  {
   "cell_type": "code",
   "execution_count": 235,
   "id": "180a7e1b",
   "metadata": {
    "scrolled": true
   },
   "outputs": [
    {
     "data": {
      "image/png": "[encoded data removed]",
      "text/plain": [
       "<Figure size 640x480 with 1 Axes>"
      ]
     },
     "metadata": {},
     "output_type": "display_data"
    },
    {
     "name": "stdout",
     "output_type": "stream",
     "text": [
      "20.939718437611095 Image__2023-06-28__15-10-01.png\n",
      "######################################\n",
      "\n",
      "\n"
     ]
    },
    {
     "data": {
      "image/png": "[encoded data removed]",
      "text/plain": [
       "<Figure size 640x480 with 1 Axes>"
      ]
     },
     "metadata": {},
     "output_type": "display_data"
    },
    {
     "name": "stdout",
     "output_type": "stream",
     "text": [
      "20.93078781666356 Image__2023-06-28__15-10-07.png\n",
      "######################################\n",
      "\n",
      "\n"
     ]
    },
    {
     "data": {
      "image/png": "[encoded data removed]",
      "text/plain": [
       "<Figure size 640x480 with 1 Axes>"
      ]
     },
     "metadata": {},
     "output_type": "display_data"
    },
    {
     "name": "stdout",
     "output_type": "stream",
     "text": [
      "20.927095475450372 Image__2023-06-28__15-10-16.png\n",
      "######################################\n",
      "\n",
      "\n"
     ]
    },
    {
     "data": {
      "image/png": "[encoded data removed]",
      "text/plain": [
       "<Figure size 640x480 with 1 Axes>"
      ]
     },
     "metadata": {},
     "output_type": "display_data"
    },
    {
     "name": "stdout",
     "output_type": "stream",
     "text": [
      "20.93335062236033 Image__2023-06-28__15-09-36.png\n",
      "######################################\n",
      "\n",
      "\n"
     ]
    },
    {
     "data": {
      "image/png": "[encoded data removed]",
      "text/plain": [
       "<Figure size 640x480 with 1 Axes>"
      ]
     },
     "metadata": {},
     "output_type": "display_data"
    },
    {
     "name": "stdout",
     "output_type": "stream",
     "text": [
      "20.934099035643236 Image__2023-06-28__15-09-47.png\n",
      "######################################\n",
      "\n",
      "\n"
     ]
    },
    {
     "data": {
      "image/png": "[encoded data removed]",
      "text/plain": [
       "<Figure size 640x480 with 1 Axes>"
      ]
     },
     "metadata": {},
     "output_type": "display_data"
    },
    {
     "name": "stdout",
     "output_type": "stream",
     "text": [
      "20.940382091139067 Image__2023-06-28__15-11-00.png\n",
      "######################################\n",
      "\n",
      "\n"
     ]
    },
    {
     "data": {
      "image/png": "[encoded data removed]",
      "text/plain": [
       "<Figure size 640x480 with 1 Axes>"
      ]
     },
     "metadata": {},
     "output_type": "display_data"
    },
    {
     "name": "stdout",
     "output_type": "stream",
     "text": [
      "20.933946504696348 Image__2023-06-28__15-09-54.png\n",
      "######################################\n",
      "\n",
      "\n"
     ]
    },
    {
     "data": {
      "image/png": "[encoded data removed]",
      "text/plain": [
       "<Figure size 640x480 with 1 Axes>"
      ]
     },
     "metadata": {},
     "output_type": "display_data"
    },
    {
     "name": "stdout",
     "output_type": "stream",
     "text": [
      "20.92655268132691 Image__2023-06-28__15-09-42.png\n",
      "######################################\n",
      "\n",
      "\n"
     ]
    },
    {
     "data": {
      "image/png": "[encoded data removed]",
      "text/plain": [
       "<Figure size 640x480 with 1 Axes>"
      ]
     },
     "metadata": {},
     "output_type": "display_data"
    },
    {
     "name": "stdout",
     "output_type": "stream",
     "text": [
      "20.938730863482455 Image__2023-06-28__15-10-20.png\n",
      "######################################\n",
      "\n",
      "\n"
     ]
    },
    {
     "data": {
      "image/png": "[encoded data removed]",
      "text/plain": [
       "<Figure size 640x480 with 1 Axes>"
      ]
     },
     "metadata": {},
     "output_type": "display_data"
    },
    {
     "name": "stdout",
     "output_type": "stream",
     "text": [
      "20.941792564157943 Image__2023-06-28__15-09-27.png\n",
      "######################################\n",
      "\n",
      "\n"
     ]
    }
   ],
   "source": [
    "image_directory = \"/home/shahabas/SAC/Dimension_New/28_june_23/moving\"\n",
    "filenames = os.listdir(image_directory)\n",
    "mean_dia=[]\n",
    "\n",
    "\n",
    "for file in filenames[:]:\n",
    "    \n",
    "    input_path = os.path.join(image_directory, file)\n",
    "    image = cv2.imread(input_path)\n",
    "    cropped_img=image[1850:1890,]\n",
    "    \n",
    "    plt.imshow(cropped_img,cmap=\"gray\")\n",
    "    plt.show()\n",
    "    \n",
    "    gray = cv2.cvtColor(cropped_img, cv2.COLOR_BGR2GRAY)\n",
    "    _, thresholded = cv2.threshold(gray, 20, 255, cv2.THRESH_BINARY)\n",
    "    thresholded = thresholded.astype(np.uint8)\n",
    "    masked_image = cv2.bitwise_and(gray, gray, mask=thresholded).astype(float)\n",
    "#     height, width = thresholded.shape[:2]\n",
    "#     three_channel_image = np.zeros((height, width, 3), dtype=np.uint8)\n",
    "#     three_channel_image[:, :, 0] = thresholded\n",
    "#     three_channel_image[:, :, 1] = thresholded\n",
    "#     three_channel_image[:, :, 2] = thresholded\n",
    "\n",
    "#     inverted_image = cv2.bitwise_not(three_channel_image)\n",
    "\n",
    "#     colour_inverted=cv2.cvtColor(inverted_image, cv2.COLOR_BGR2RGB)\n",
    "    edges = subpixel_edges(masked_image, 15, 0, 1)\n",
    "    \n",
    "    x_left=[]\n",
    "    x_right=[]\n",
    "\n",
    "    for i in edges.x:\n",
    "        if i<1000:\n",
    "            x_left.append(i)\n",
    "        else:\n",
    "            x_right.append(i)\n",
    "    \n",
    "    x_left=sorted(x_left,reverse=False) \n",
    "    x_left=x_left[:15]\n",
    "    \n",
    "    x_right=sorted(x_right,reverse=True)\n",
    "    x_right=x_right[:15]\n",
    "    \n",
    "    \n",
    "    diameter=(np.average(x_right)-np.average(x_left))/41.28 #41.28 is pixel per mm\n",
    "    print(diameter,file)\n",
    "\n",
    "    print(\"######################################\")\n",
    "    print(\"\\n\")\n",
    "    mean_dia.append(diameter)\n",
    "    \n",
    "#     plt.imshow(inverted_image)\n",
    "#     plt.show()\n",
    "#     cv2.line(inverted_image,(int(x_left_mode),0),(int(x_left_mode),200),(255,0,0),3)\n",
    "#     cv2.line(inverted_image,(int(x_right_mode),0),(int(x_right_mode),200),(255,0,0),5)\n",
    "#     plt.imshow(inverted_image)\n",
    "# #     plt.quiver(edges.x,edges.y,edges.nx,-edges.ny,scale=40,color=\"red\")\n",
    "#     plt.show()\n",
    "#     with cairo.SVGSurface(file+\".svg\",width,height) as surface:\n",
    "#         context = cairo.Context(surface)\n",
    "\n",
    "#         context.set_line_width(3)\n",
    "#         context.set_source_rgb(1, 0, 0)\n",
    "#         context.move_to(np.average(x_left), 0)\n",
    "\n",
    "#         # Draw a line to the ending point\n",
    "#         context.line_to(np.average(x_left), 200)\n",
    "\n",
    "#         context.stroke()\n",
    "\n",
    "#         context.set_line_width(3)\n",
    "#         context.set_source_rgb(0, 1, 0)\n",
    "#         context.move_to(np.average(x_right), 0)\n",
    "\n",
    "#         # Draw a line to the ending point\n",
    "#         context.line_to(np.average(x_right), 200)\n",
    "\n",
    "#         context.stroke()\n",
    "        \n",
    "#         context.set_line_width(3)\n",
    "#         context.set_source_rgb(0, 0, 1)\n",
    "#         context.move_to(np.average(x_left), 100)\n",
    "\n",
    "        # Draw a line to the ending point\n",
    "#         context.line_to(np.average(x_right), 100)\n",
    "#         context.stroke()\n",
    "\n",
    "#         context.show_page()\n",
    "#         surface.finish()"
   ]
  },
  {
   "cell_type": "code",
   "execution_count": 170,
   "id": "b1b8ac9d",
   "metadata": {},
   "outputs": [
    {
     "data": {
      "text/plain": [
       "[21.511123568836165,\n",
       " 21.50095996528256,\n",
       " 21.499974560630903,\n",
       " 21.510386358037714,\n",
       " 21.521620945569907,\n",
       " 21.50139057842619,\n",
       " 21.51745449684604,\n",
       " 21.515081162534003,\n",
       " 21.504361675749532,\n",
       " 21.507366818256926]"
      ]
     },
     "execution_count": 170,
     "metadata": {},
     "output_type": "execute_result"
    }
   ],
   "source": [
    "mean_dia"
   ]
  },
  {
   "cell_type": "code",
   "execution_count": 171,
   "id": "49d0cfbe",
   "metadata": {},
   "outputs": [
    {
     "name": "stdout",
     "output_type": "stream",
     "text": [
      "[0.00215156 0.00801205 0.00899745 0.00141435 0.01264893 0.00758143\n",
      " 0.00848248 0.00610915 0.00461034 0.00160519]\n"
     ]
    }
   ],
   "source": [
    "print(np.abs(mean_dia-np.average(mean_dia)))"
   ]
  },
  {
   "cell_type": "code",
   "execution_count": 172,
   "id": "4b7a19e6",
   "metadata": {},
   "outputs": [
    {
     "data": {
      "text/plain": [
       "21.499974560630903"
      ]
     },
     "execution_count": 172,
     "metadata": {},
     "output_type": "execute_result"
    }
   ],
   "source": [
    "min(mean_dia)"
   ]
  },
  {
   "cell_type": "code",
   "execution_count": 236,
   "id": "6d6ccf40",
   "metadata": {},
   "outputs": [
    {
     "name": "stdout",
     "output_type": "stream",
     "text": [
      "0.0152\n"
     ]
    }
   ],
   "source": [
    "print(round(max(mean_dia)-min(mean_dia),4))"
   ]
  },
  {
   "cell_type": "markdown",
   "id": "d3a79d6f",
   "metadata": {},
   "source": [
    "# Component Length"
   ]
  },
  {
   "cell_type": "code",
   "execution_count": 8,
   "id": "841c632a",
   "metadata": {
    "scrolled": true
   },
   "outputs": [
    {
     "data": {
      "image/png": "[encoded data removed]",
      "text/plain": [
       "<Figure size 640x480 with 1 Axes>"
      ]
     },
     "metadata": {},
     "output_type": "display_data"
    },
    {
     "name": "stdout",
     "output_type": "stream",
     "text": [
      "51.59476860539467 Image__2023-06-28__15-10-01.png\n",
      "######################################\n",
      "\n",
      "\n"
     ]
    },
    {
     "data": {
      "image/png": "[encoded data removed]",
      "text/plain": [
       "<Figure size 640x480 with 1 Axes>"
      ]
     },
     "metadata": {},
     "output_type": "display_data"
    },
    {
     "name": "stdout",
     "output_type": "stream",
     "text": [
      "51.58729403932333 Image__2023-06-28__15-10-07.png\n",
      "######################################\n",
      "\n",
      "\n"
     ]
    },
    {
     "data": {
      "image/png": "[encoded data removed]",
      "text/plain": [
       "<Figure size 640x480 with 1 Axes>"
      ]
     },
     "metadata": {},
     "output_type": "display_data"
    },
    {
     "name": "stdout",
     "output_type": "stream",
     "text": [
      "51.58716938321215 Image__2023-06-28__15-10-16.png\n",
      "######################################\n",
      "\n",
      "\n"
     ]
    },
    {
     "data": {
      "image/png": "[encoded data removed]",
      "text/plain": [
       "<Figure size 640x480 with 1 Axes>"
      ]
     },
     "metadata": {},
     "output_type": "display_data"
    },
    {
     "name": "stdout",
     "output_type": "stream",
     "text": [
      "51.58179098908366 Image__2023-06-28__15-09-36.png\n",
      "######################################\n",
      "\n",
      "\n"
     ]
    },
    {
     "data": {
      "image/png": "[encoded data removed]",
      "text/plain": [
       "<Figure size 640x480 with 1 Axes>"
      ]
     },
     "metadata": {},
     "output_type": "display_data"
    },
    {
     "name": "stdout",
     "output_type": "stream",
     "text": [
      "51.586255811282214 Image__2023-06-28__15-09-47.png\n",
      "######################################\n",
      "\n",
      "\n"
     ]
    },
    {
     "data": {
      "image/png": "[encoded data removed]",
      "text/plain": [
       "<Figure size 640x480 with 1 Axes>"
      ]
     },
     "metadata": {},
     "output_type": "display_data"
    },
    {
     "name": "stdout",
     "output_type": "stream",
     "text": [
      "51.59082884354142 Image__2023-06-28__15-11-00.png\n",
      "######################################\n",
      "\n",
      "\n"
     ]
    },
    {
     "data": {
      "image/png": "[encoded data removed]",
      "text/plain": [
       "<Figure size 640x480 with 1 Axes>"
      ]
     },
     "metadata": {},
     "output_type": "display_data"
    },
    {
     "name": "stdout",
     "output_type": "stream",
     "text": [
      "51.588031881129396 Image__2023-06-28__15-09-54.png\n",
      "######################################\n",
      "\n",
      "\n"
     ]
    },
    {
     "data": {
      "image/png": "[encoded data removed]",
      "text/plain": [
       "<Figure size 640x480 with 1 Axes>"
      ]
     },
     "metadata": {},
     "output_type": "display_data"
    },
    {
     "name": "stdout",
     "output_type": "stream",
     "text": [
      "51.5770668678453 Image__2023-06-28__15-09-42.png\n",
      "######################################\n",
      "\n",
      "\n"
     ]
    },
    {
     "data": {
      "image/png": "[encoded data removed]",
      "text/plain": [
       "<Figure size 640x480 with 1 Axes>"
      ]
     },
     "metadata": {},
     "output_type": "display_data"
    },
    {
     "name": "stdout",
     "output_type": "stream",
     "text": [
      "51.58340990939411 Image__2023-06-28__15-10-20.png\n",
      "######################################\n",
      "\n",
      "\n"
     ]
    },
    {
     "data": {
      "image/png": "[encoded data removed]",
      "text/plain": [
       "<Figure size 640x480 with 1 Axes>"
      ]
     },
     "metadata": {},
     "output_type": "display_data"
    },
    {
     "name": "stdout",
     "output_type": "stream",
     "text": [
      "51.58311804046809 Image__2023-06-28__15-09-27.png\n",
      "######################################\n",
      "\n",
      "\n"
     ]
    }
   ],
   "source": [
    "image_directory = \"/home/shahabas/SAC/Dimension_New/28_june_23/moving\"\n",
    "filenames = os.listdir(image_directory)\n",
    "mean_dia=[]\n",
    "\n",
    "\n",
    "for file in filenames[:]:\n",
    "    \n",
    "    input_path = os.path.join(image_directory, file)\n",
    "    image = cv2.imread(input_path)\n",
    "    cropped_img=image[:,800:1200]\n",
    "    \n",
    "    \n",
    "    \n",
    "    gray = cv2.cvtColor(cropped_img, cv2.COLOR_BGR2GRAY)\n",
    "    \n",
    "    \n",
    "    _, thresholded = cv2.threshold(gray, 20, 255, cv2.THRESH_BINARY)\n",
    "    thresholded = thresholded.astype(np.uint8)\n",
    "    masked_image = cv2.bitwise_and(gray, gray, mask=thresholded).astype(float)\n",
    "    rotated_image = cv2.rotate(masked_image, cv2.ROTATE_90_COUNTERCLOCKWISE)\n",
    "    plt.imshow(rotated_image)\n",
    "    plt.show()\n",
    "#     height, width = thresholded.shape[:2]\n",
    "#     three_channel_image = np.zeros((height, width, 3), dtype=np.uint8)\n",
    "#     three_channel_image[:, :, 0] = thresholded\n",
    "#     three_channel_image[:, :, 1] = thresholded\n",
    "#     three_channel_image[:, :, 2] = thresholded\n",
    "\n",
    "#     inverted_image = cv2.bitwise_not(three_channel_image)\n",
    "\n",
    "#     colour_inverted=cv2.cvtColor(inverted_image, cv2.COLOR_BGR2RGB)\n",
    "    edges = subpixel_edges(rotated_image, 15, 0, 1)\n",
    "    \n",
    "    x_left=[]\n",
    "    x_right=[]\n",
    "\n",
    "    for i in edges.x:\n",
    "        if i<1000:\n",
    "            x_left.append(i)\n",
    "        else:\n",
    "            x_right.append(i)\n",
    "    \n",
    "    \n",
    "    \n",
    "    \n",
    "    Length=(2800.0-np.average(x_left))/41.28 #41.28 is pixel per mm\n",
    "    print(Length,file)\n",
    "\n",
    "    print(\"######################################\")\n",
    "    print(\"\\n\")\n",
    "    mean_dia.append(Length)"
   ]
  },
  {
   "cell_type": "code",
   "execution_count": 9,
   "id": "864a04ba",
   "metadata": {},
   "outputs": [
    {
     "name": "stdout",
     "output_type": "stream",
     "text": [
      "0.0177\n"
     ]
    }
   ],
   "source": [
    "print(round(max(mean_dia)-min(mean_dia),4))"
   ]
  },
  {
   "cell_type": "code",
   "execution_count": 107,
   "id": "d35f672c",
   "metadata": {},
   "outputs": [
    {
     "data": {
      "image/png": "[encoded data removed]",
      "text/plain": [
       "<Figure size 640x480 with 1 Axes>"
      ]
     },
     "metadata": {},
     "output_type": "display_data"
    },
    {
     "name": "stdout",
     "output_type": "stream",
     "text": [
      "[669.         671.         671.         671.         671.\n",
      " 673.         668.42356688 666.44845361 668.1025641  668.11935484\n",
      " 667.47435897 668.89130435 669.42307692 669.48461538 669.47058824\n",
      " 669.40625    669.38235294 669.39855072 670.4044586  670.43589744\n",
      " 669.47297297 670.2721519  670.2721519  670.13291139 670.13291139\n",
      " 670.07961783 670.1025641  670.23076923 670.25641026 670.24522293\n",
      " 670.15605096 670.17948718 670.19426752 670.17088608 670.23417722\n",
      " 669.18789809 669.20512821 670.17741935 669.52564103 669.46815287\n",
      " 669.51282051 669.44267516 669.16666667 669.56944444 669.28205128\n",
      " 669.25159236 669.37898089 669.41025641 669.46153846 668.94755245\n",
      " 668.56369427 669.02229299 669.06774194 669.48701299 669.45541401\n",
      " 669.47435897 669.48064516 669.29487179 669.32580645 669.48717949\n",
      " 669.48717949 669.48717949 670.12820513 670.02564103 670.02564103\n",
      " 670.20512821 672.03448276 671.54201681 670.44871795 670.42993631\n",
      " 670.21794872 672.32568807 669.47435897 669.47435897 669.48709677\n",
      " 669.5        669.47435897 669.47435897 669.47435897 669.5\n",
      " 670.12337662 670.10645161 670.11538462 670.13225806 670.14102564\n",
      " 670.01282051 670.01282051 670.06410256 670.06410256 670.03846154\n",
      " 670.05483871 669.48709677 669.48709677 669.5        669.48709677\n",
      " 669.5        669.48709677 669.5        669.5        669.5\n",
      " 669.5        669.5        669.47435897 669.47435897 669.47435897\n",
      " 669.47435897 669.47435897 669.47435897 669.48709677 669.5\n",
      " 669.47435897 669.48709677 669.5        669.47435897 669.47435897\n",
      " 669.48709677 669.5        669.47435897 669.47435897 669.47435897\n",
      " 669.47435897 669.47435897 669.47435897 669.48709677 669.5\n",
      " 669.47435897 669.47435897 669.47435897 669.47435897 669.47435897\n",
      " 669.47435897 669.47435897 669.47435897 669.47435897 669.47435897\n",
      " 669.47435897 669.47435897 669.47435897 669.48709677 669.5\n",
      " 669.5        669.47435897 669.47435897 669.47435897 669.47435897\n",
      " 669.47435897 669.48709677 669.5        669.47435897 669.48709677\n",
      " 669.5        669.5        669.5        669.47435897 669.47435897\n",
      " 669.47435897 669.47435897 669.48709677 669.5        669.5\n",
      " 669.5        669.5        669.5        669.5        669.5\n",
      " 669.5        669.48709677 669.5        669.5        669.5\n",
      " 669.5        669.47435897 669.47435897 669.47435897 669.47435897\n",
      " 669.47435897 669.47435897 669.47435897 669.48709677 669.5\n",
      " 669.5        669.47435897 669.47435897 669.48709677 669.5\n",
      " 669.5        669.47435897 669.47435897 669.47435897 669.34615385\n",
      " 669.5        669.52985075 669.5        669.47435897 669.48709677\n",
      " 669.5        669.33098592 669.5        670.5        669.5\n",
      " 669.5        669.5        669.47435897 669.47435897 669.47435897\n",
      " 669.47435897 669.47435897 669.47435897 669.47435897 669.47435897\n",
      " 669.47435897 669.48709677 669.5        669.5        669.48709677\n",
      " 669.5        669.5        669.47435897 669.47435897 669.48709677\n",
      " 669.5        669.5        669.47435897 669.47435897 669.47435897\n",
      " 669.47435897 669.47435897 669.47435897 669.47435897 669.47435897\n",
      " 669.47435897 669.47435897 669.47435897 669.47435897 669.48709677\n",
      " 669.5        669.5        669.5        669.5        669.5\n",
      " 669.47435897 669.47435897 669.48709677 669.5        669.5\n",
      " 669.47435897 669.47435897 669.47435897 669.47435897 669.47435897\n",
      " 669.47435897 669.47435897 669.47435897 669.47435897 669.47435897\n",
      " 669.48709677 669.5        669.47435897 669.47435897 669.48709677\n",
      " 669.5        669.47435897 669.47435897 672.49029126 671.76262626\n",
      " 669.47435897 669.47435897 669.47435897 669.47435897 669.48709677\n",
      " 669.5        669.47435897 669.48709677 669.5        669.48709677\n",
      " 669.5        669.48709677 669.5        669.47435897 669.5\n",
      " 670.04545455 670.02903226 670.19230769 670.19230769 670.08974359\n",
      " 670.08598726 669.47435897 671.3490566  670.1835443  670.41139241\n",
      " 670.41139241 670.84394904 670.84394904 671.5        670.64012739\n",
      " 670.6910828  670.6910828  670.71656051 670.71656051 671.69354839\n",
      " 670.62820513 671.57936508 671.70325203 671.67741935 670.6025641\n",
      " 670.61464968 670.62820513 670.80769231 671.60606061 670.88461538\n",
      " 670.88461538 670.98717949 670.97133758 671.55109489 670.93589744\n",
      " 671.06410256 671.06410256 671.14102564 671.12420382 671.07324841\n",
      " 671.27304965 671.08865248 670.73076923 670.89490446 671.31118881\n",
      " 671.23076923 671.21794872 671.22611465 671.2388535  671.31528662\n",
      " 671.44267516 671.46153846 671.46153846 671.46153846 671.51282051\n",
      " 671.51282051 671.44936709 671.44936709 671.48089172 671.48717949\n",
      " 671.48717949 671.48717949 672.1025641  672.13291139 671.98101266\n",
      " 671.09375    671.5        670.99593496 671.5        670.95454545\n",
      " 671.5        671.58695652 671.5        670.97540984 671.5\n",
      " 671.14912281 671.5        671.71621622 671.5        671.42753623\n",
      " 671.5        671.55084746 671.5        671.13076923 671.5\n",
      " 671.5        671.5        671.13076923 671.5        671.60714286\n",
      " 671.5        671.33098592 671.5        671.21794872 671.34827586\n",
      " 671.58571429 671.5        671.47222222 671.47435897 671.47435897\n",
      " 671.47435897 671.47435897 671.47435897 671.47435897 671.48709677\n",
      " 671.5        671.47435897 671.48709677 671.5        671.5\n",
      " 671.5        671.5        671.5        671.48709677 671.5\n",
      " 671.5        671.5        671.48709677 671.5        671.47435897\n",
      " 671.5        671.47435897 671.47435897 671.48709677 671.5\n",
      " 671.5        671.5        671.47435897 673.5        672.19426752\n",
      " 672.2133758  674.40566038 672.0443038  672.03164557 671.98101266\n",
      " 672.32051282 672.2721519 ] [196.48969072  49.71428571  59.58       271.11904762 300.56896552\n",
      " 385.89285714 196.         197.         192.         193.\n",
      " 194.         195.          12.          13.          16.\n",
      "  17.          22.          23.          26.          27.\n",
      "  30.          34.          35.          36.          37.\n",
      "  38.          39.          40.          42.          43.\n",
      "  44.          45.          46.          47.          48.\n",
      "  54.          55.          62.          72.          73.\n",
      "  75.         173.         174.         175.         180.\n",
      " 181.         182.         183.         184.         190.\n",
      " 191.         198.         199.         200.         212.\n",
      " 213.         215.         216.         217.         223.\n",
      " 232.         233.         273.         274.         275.\n",
      " 300.          28.          29.          32.          33.\n",
      "  41.          49.          50.          51.          52.\n",
      "  53.          56.          57.          58.          59.\n",
      "  60.          61.          63.          64.          65.\n",
      "  66.          67.          68.          69.          70.\n",
      "  71.          74.          76.          77.          78.\n",
      "  79.          80.          81.          82.          83.\n",
      "  84.          85.          86.          87.          88.\n",
      "  89.          90.          91.          92.          93.\n",
      "  94.          95.          96.          97.          98.\n",
      "  99.         100.         101.         102.         103.\n",
      " 104.         105.         106.         107.         108.\n",
      " 109.         110.         111.         112.         113.\n",
      " 114.         115.         116.         117.         118.\n",
      " 119.         120.         121.         122.         123.\n",
      " 124.         125.         126.         127.         128.\n",
      " 129.         130.         131.         132.         133.\n",
      " 134.         135.         136.         137.         138.\n",
      " 139.         140.         141.         142.         143.\n",
      " 144.         145.         146.         147.         148.\n",
      " 149.         150.         151.         152.         153.\n",
      " 154.         155.         156.         157.         158.\n",
      " 159.         160.         161.         162.         163.\n",
      " 164.         165.         166.         167.         168.\n",
      " 169.         170.         171.         172.         176.\n",
      " 177.         178.         179.         185.         186.\n",
      " 187.         188.         189.         196.         197.\n",
      " 201.         202.         203.         204.         205.\n",
      " 206.         207.         208.         209.         210.\n",
      " 211.         214.         218.         219.         220.\n",
      " 221.         222.         224.         225.         226.\n",
      " 227.         228.         229.         230.         231.\n",
      " 234.         235.         236.         237.         238.\n",
      " 239.         240.         241.         242.         243.\n",
      " 244.         245.         246.         247.         248.\n",
      " 249.         250.         251.         252.         253.\n",
      " 254.         255.         256.         257.         258.\n",
      " 259.         260.         261.         262.         263.\n",
      " 264.         265.         266.         267.         268.\n",
      " 269.         270.         271.         272.         276.\n",
      " 277.         278.         279.         280.         281.\n",
      " 282.         283.         284.         285.         286.\n",
      " 287.         288.         289.         290.         291.\n",
      " 292.         293.         294.         295.         296.\n",
      " 297.         298.         299.         301.         302.\n",
      " 303.           2.           3.           6.           7.\n",
      "   8.           9.          10.          11.          14.\n",
      "  15.          20.          21.          24.          25.\n",
      " 304.         305.         306.         307.         312.\n",
      " 313.         314.         315.         320.         321.\n",
      " 322.         323.         324.         325.         326.\n",
      " 327.         328.         329.         330.         331.\n",
      " 334.         335.         336.         337.         343.\n",
      " 344.         350.         351.         352.         363.\n",
      " 368.         369.         370.         373.         377.\n",
      " 384.         385.         387.         390.         395.\n",
      "   4.           5.          12.          13.          16.\n",
      "  17.          18.          19.          22.          23.\n",
      "  26.          27.          30.          31.          34.\n",
      "  35.          48.          49.         308.         309.\n",
      " 310.         311.         316.         317.         318.\n",
      " 319.         332.         333.         338.         339.\n",
      " 340.         341.         342.         345.         346.\n",
      " 347.         348.         349.         353.         354.\n",
      " 355.         356.         357.         358.         359.\n",
      " 360.         361.         362.         364.         365.\n",
      " 366.         367.         371.         372.         374.\n",
      " 375.         376.         378.         379.         380.\n",
      " 381.         382.         383.         386.         388.\n",
      " 389.         391.         392.         393.         394.\n",
      " 396.         397.        ]\n"
     ]
    }
   ],
   "source": [
    "image_directory = \"/home/shahabas/SAC/Dimension_New/28_june_23/moving\"\n",
    "filenames = os.listdir(image_directory)\n",
    "mean_dia=[]\n",
    "\n",
    "\n",
    "for file in filenames[:1]:\n",
    "    \n",
    "    input_path = os.path.join(image_directory, file)\n",
    "    image = cv2.imread(input_path)\n",
    "    cropped_img=image[:,800:1200]\n",
    "    \n",
    "    \n",
    "    \n",
    "    gray = cv2.cvtColor(cropped_img, cv2.COLOR_BGR2GRAY)\n",
    "    \n",
    "    \n",
    "    _, thresholded = cv2.threshold(gray, 20, 255, cv2.THRESH_BINARY)\n",
    "    thresholded = thresholded.astype(np.uint8)\n",
    "    masked_image = cv2.bitwise_and(gray, gray, mask=thresholded).astype(float)\n",
    "    rotated_image = cv2.rotate(masked_image, cv2.ROTATE_90_COUNTERCLOCKWISE)\n",
    "    plt.imshow(rotated_image)\n",
    "    plt.show()\n",
    "    edges = subpixel_edges(rotated_image, 15, 0, 1)\n",
    "    \n",
    "    x_left=[]\n",
    "    x_right=[]\n",
    "    y_left=[]\n",
    "    y_right=[]\n",
    "    for i in edges.x:\n",
    "        if i<1000:\n",
    "            x_left.append(i)\n",
    "        else:\n",
    "            x_right.append(i)\n",
    "    \n",
    "print(edges.x,edges.y)"
   ]
  },
  {
   "cell_type": "code",
   "execution_count": 105,
   "id": "84675f74",
   "metadata": {},
   "outputs": [
    {
     "data": {
      "text/plain": [
       "417"
      ]
     },
     "execution_count": 105,
     "metadata": {},
     "output_type": "execute_result"
    }
   ],
   "source": [
    "len(edges.y)"
   ]
  },
  {
   "cell_type": "code",
   "execution_count": 110,
   "id": "10736c3d",
   "metadata": {},
   "outputs": [
    {
     "ename": "ValueError",
     "evalue": "Expected 2D array, got 1D array instead:\narray=[623.08928571 623.17241379 623.27966102 623.38311688 623.39855072\n 623.40598291 623.41428571 623.44936709 623.44936709 623.44936709\n 623.44936709 623.44936709 623.44936709 623.44936709 623.44936709\n 623.44936709 623.44936709 623.44936709 623.44936709 623.44936709\n 623.44936709 623.44936709 623.44936709 623.44936709 623.44936709\n 623.44936709 623.44936709 623.44936709 623.44936709 623.44936709\n 623.44936709 623.44936709 623.44936709 623.44936709 623.44936709\n 623.44936709 623.44936709 623.44936709 623.44936709 623.44936709\n 623.44936709 623.44936709 623.44936709 623.44936709 623.45890411\n 623.46178344 623.46202532 623.46202532 623.46202532 623.46202532\n 623.46202532 623.46202532 623.46202532 623.46202532 623.46202532\n 623.46202532 623.46202532 623.46202532 623.46202532 623.46202532\n 623.46202532 623.46202532 623.46202532 623.46202532 623.46202532\n 623.46202532 623.46202532 623.46815287 623.46815287 623.46815287\n 623.46815287 623.46815287 623.46815287 623.47297297 623.47368421\n 623.47368421 623.47468354 623.48089172 623.48089172 623.48089172\n 623.48089172 623.48089172 623.48089172 623.48319328 623.48550725\n 623.48717949 623.48717949 623.49363057 623.49363057 623.81034483\n 623.98101266 623.98101266 623.98101266 623.98101266 623.98101266\n 623.99367089 624.01898734 624.02564103 624.02564103 624.02866242\n 624.03164557 624.03164557 624.03164557 624.03164557 624.03164557\n 624.0443038  624.05414013 624.05696203 624.07324841 624.07324841\n 624.08227848 624.08227848 624.08974359 624.09493671 624.09493671\n 624.10759494 624.12025316 624.13694268 624.14556962 624.14556962\n 624.14968153 624.20063694 624.23248408 624.23417722 624.23417722\n 624.25159236 624.25159236 624.25796178 624.2721519  624.2721519\n 624.28481013 624.29746835 624.29746835 624.29746835 624.29746835\n 624.29746835 624.32165605 624.33544304 624.33544304 624.34810127\n 624.34810127 624.37341772 624.37341772 624.37341772 624.37341772\n 624.38535032 624.38607595 624.39171975 624.39873418 624.4044586\n 624.42307692 624.42993631 624.43589744 624.43670886 624.44267516\n 624.44267516 624.44904459 624.44936709 624.44936709 624.44936709\n 624.46202532 624.46202532 624.5        624.51273885 624.51282051\n 624.53797468 624.53797468 624.53797468 624.56369427 624.57692308\n 624.57692308 624.62101911 624.64102564 624.67834395 624.67948718\n 624.67948718 624.68987342 624.68987342 624.80769231 624.81623932\n 624.8164557  624.8164557  624.82051282 624.82484076 624.85897436\n 624.9        624.94262295 625.1        625.125      625.44117647\n 625.5        625.5        625.5        625.5        625.5\n 625.5        625.5        625.5        625.5        625.5\n 625.5        625.5        625.5        625.5        625.55128205\n 625.5625     625.6        625.61764706 625.625      625.66666667\n 625.71487603 625.80136986 625.85087719 625.90350877 625.9173913\n 625.92857143 625.97457627 626.13157895 626.21929825 626.29279279\n 626.38461538 626.42307692 626.43333333].\nReshape your data either using array.reshape(-1, 1) if your data has a single feature or array.reshape(1, -1) if it contains a single sample.",
     "output_type": "error",
     "traceback": [
      "\u001b[0;31m---------------------------------------------------------------------------\u001b[0m",
      "\u001b[0;31mValueError\u001b[0m                                Traceback (most recent call last)",
      "Cell \u001b[0;32mIn[110], line 15\u001b[0m\n\u001b[1;32m     12\u001b[0m ransac \u001b[38;5;241m=\u001b[39m RANSACRegressor(base_estimator\u001b[38;5;241m=\u001b[39mLinearRegression(), random_state\u001b[38;5;241m=\u001b[39m\u001b[38;5;241m0\u001b[39m)\n\u001b[1;32m     14\u001b[0m \u001b[38;5;66;03m# Fit the RANSAC model to the data\u001b[39;00m\n\u001b[0;32m---> 15\u001b[0m \u001b[43mransac\u001b[49m\u001b[38;5;241;43m.\u001b[39;49m\u001b[43mfit\u001b[49m\u001b[43m(\u001b[49m\u001b[43mx\u001b[49m\u001b[43m,\u001b[49m\u001b[43m \u001b[49m\u001b[43my\u001b[49m\u001b[43m)\u001b[49m\n\u001b[1;32m     17\u001b[0m \u001b[38;5;66;03m# Obtain the inlier mask from the RANSAC model\u001b[39;00m\n\u001b[1;32m     18\u001b[0m inlier_mask \u001b[38;5;241m=\u001b[39m ransac\u001b[38;5;241m.\u001b[39minlier_mask_\n",
      "File \u001b[0;32m~/shahabas/SAC_project/venv/lib/python3.8/site-packages/sklearn/linear_model/_ransac.py:307\u001b[0m, in \u001b[0;36mRANSACRegressor.fit\u001b[0;34m(self, X, y, sample_weight)\u001b[0m\n\u001b[1;32m    305\u001b[0m check_X_params \u001b[38;5;241m=\u001b[39m \u001b[38;5;28mdict\u001b[39m(accept_sparse\u001b[38;5;241m=\u001b[39m\u001b[38;5;124m\"\u001b[39m\u001b[38;5;124mcsr\u001b[39m\u001b[38;5;124m\"\u001b[39m, force_all_finite\u001b[38;5;241m=\u001b[39m\u001b[38;5;28;01mFalse\u001b[39;00m)\n\u001b[1;32m    306\u001b[0m check_y_params \u001b[38;5;241m=\u001b[39m \u001b[38;5;28mdict\u001b[39m(ensure_2d\u001b[38;5;241m=\u001b[39m\u001b[38;5;28;01mFalse\u001b[39;00m)\n\u001b[0;32m--> 307\u001b[0m X, y \u001b[38;5;241m=\u001b[39m \u001b[38;5;28;43mself\u001b[39;49m\u001b[38;5;241;43m.\u001b[39;49m\u001b[43m_validate_data\u001b[49m\u001b[43m(\u001b[49m\n\u001b[1;32m    308\u001b[0m \u001b[43m    \u001b[49m\u001b[43mX\u001b[49m\u001b[43m,\u001b[49m\u001b[43m \u001b[49m\u001b[43my\u001b[49m\u001b[43m,\u001b[49m\u001b[43m \u001b[49m\u001b[43mvalidate_separately\u001b[49m\u001b[38;5;241;43m=\u001b[39;49m\u001b[43m(\u001b[49m\u001b[43mcheck_X_params\u001b[49m\u001b[43m,\u001b[49m\u001b[43m \u001b[49m\u001b[43mcheck_y_params\u001b[49m\u001b[43m)\u001b[49m\n\u001b[1;32m    309\u001b[0m \u001b[43m\u001b[49m\u001b[43m)\u001b[49m\n\u001b[1;32m    310\u001b[0m check_consistent_length(X, y)\n\u001b[1;32m    312\u001b[0m \u001b[38;5;28;01mif\u001b[39;00m \u001b[38;5;28mself\u001b[39m\u001b[38;5;241m.\u001b[39mbase_estimator \u001b[38;5;129;01mis\u001b[39;00m \u001b[38;5;129;01mnot\u001b[39;00m \u001b[38;5;28;01mNone\u001b[39;00m:\n",
      "File \u001b[0;32m~/shahabas/SAC_project/venv/lib/python3.8/site-packages/sklearn/base.py:578\u001b[0m, in \u001b[0;36mBaseEstimator._validate_data\u001b[0;34m(self, X, y, reset, validate_separately, **check_params)\u001b[0m\n\u001b[1;32m    572\u001b[0m \u001b[38;5;28;01mif\u001b[39;00m validate_separately:\n\u001b[1;32m    573\u001b[0m     \u001b[38;5;66;03m# We need this because some estimators validate X and y\u001b[39;00m\n\u001b[1;32m    574\u001b[0m     \u001b[38;5;66;03m# separately, and in general, separately calling check_array()\u001b[39;00m\n\u001b[1;32m    575\u001b[0m     \u001b[38;5;66;03m# on X and y isn't equivalent to just calling check_X_y()\u001b[39;00m\n\u001b[1;32m    576\u001b[0m     \u001b[38;5;66;03m# :(\u001b[39;00m\n\u001b[1;32m    577\u001b[0m     check_X_params, check_y_params \u001b[38;5;241m=\u001b[39m validate_separately\n\u001b[0;32m--> 578\u001b[0m     X \u001b[38;5;241m=\u001b[39m \u001b[43mcheck_array\u001b[49m\u001b[43m(\u001b[49m\u001b[43mX\u001b[49m\u001b[43m,\u001b[49m\u001b[43m \u001b[49m\u001b[38;5;241;43m*\u001b[39;49m\u001b[38;5;241;43m*\u001b[39;49m\u001b[43mcheck_X_params\u001b[49m\u001b[43m)\u001b[49m\n\u001b[1;32m    579\u001b[0m     y \u001b[38;5;241m=\u001b[39m check_array(y, \u001b[38;5;241m*\u001b[39m\u001b[38;5;241m*\u001b[39mcheck_y_params)\n\u001b[1;32m    580\u001b[0m \u001b[38;5;28;01melse\u001b[39;00m:\n",
      "File \u001b[0;32m~/shahabas/SAC_project/venv/lib/python3.8/site-packages/sklearn/utils/validation.py:769\u001b[0m, in \u001b[0;36mcheck_array\u001b[0;34m(array, accept_sparse, accept_large_sparse, dtype, order, copy, force_all_finite, ensure_2d, allow_nd, ensure_min_samples, ensure_min_features, estimator)\u001b[0m\n\u001b[1;32m    767\u001b[0m     \u001b[38;5;66;03m# If input is 1D raise error\u001b[39;00m\n\u001b[1;32m    768\u001b[0m     \u001b[38;5;28;01mif\u001b[39;00m array\u001b[38;5;241m.\u001b[39mndim \u001b[38;5;241m==\u001b[39m \u001b[38;5;241m1\u001b[39m:\n\u001b[0;32m--> 769\u001b[0m         \u001b[38;5;28;01mraise\u001b[39;00m \u001b[38;5;167;01mValueError\u001b[39;00m(\n\u001b[1;32m    770\u001b[0m             \u001b[38;5;124m\"\u001b[39m\u001b[38;5;124mExpected 2D array, got 1D array instead:\u001b[39m\u001b[38;5;130;01m\\n\u001b[39;00m\u001b[38;5;124marray=\u001b[39m\u001b[38;5;132;01m{}\u001b[39;00m\u001b[38;5;124m.\u001b[39m\u001b[38;5;130;01m\\n\u001b[39;00m\u001b[38;5;124m\"\u001b[39m\n\u001b[1;32m    771\u001b[0m             \u001b[38;5;124m\"\u001b[39m\u001b[38;5;124mReshape your data either using array.reshape(-1, 1) if \u001b[39m\u001b[38;5;124m\"\u001b[39m\n\u001b[1;32m    772\u001b[0m             \u001b[38;5;124m\"\u001b[39m\u001b[38;5;124myour data has a single feature or array.reshape(1, -1) \u001b[39m\u001b[38;5;124m\"\u001b[39m\n\u001b[1;32m    773\u001b[0m             \u001b[38;5;124m\"\u001b[39m\u001b[38;5;124mif it contains a single sample.\u001b[39m\u001b[38;5;124m\"\u001b[39m\u001b[38;5;241m.\u001b[39mformat(array)\n\u001b[1;32m    774\u001b[0m         )\n\u001b[1;32m    776\u001b[0m \u001b[38;5;66;03m# make sure we actually converted to numeric:\u001b[39;00m\n\u001b[1;32m    777\u001b[0m \u001b[38;5;28;01mif\u001b[39;00m dtype_numeric \u001b[38;5;129;01mand\u001b[39;00m array\u001b[38;5;241m.\u001b[39mdtype\u001b[38;5;241m.\u001b[39mkind \u001b[38;5;129;01min\u001b[39;00m \u001b[38;5;124m\"\u001b[39m\u001b[38;5;124mOUSV\u001b[39m\u001b[38;5;124m\"\u001b[39m:\n",
      "\u001b[0;31mValueError\u001b[0m: Expected 2D array, got 1D array instead:\narray=[623.08928571 623.17241379 623.27966102 623.38311688 623.39855072\n 623.40598291 623.41428571 623.44936709 623.44936709 623.44936709\n 623.44936709 623.44936709 623.44936709 623.44936709 623.44936709\n 623.44936709 623.44936709 623.44936709 623.44936709 623.44936709\n 623.44936709 623.44936709 623.44936709 623.44936709 623.44936709\n 623.44936709 623.44936709 623.44936709 623.44936709 623.44936709\n 623.44936709 623.44936709 623.44936709 623.44936709 623.44936709\n 623.44936709 623.44936709 623.44936709 623.44936709 623.44936709\n 623.44936709 623.44936709 623.44936709 623.44936709 623.45890411\n 623.46178344 623.46202532 623.46202532 623.46202532 623.46202532\n 623.46202532 623.46202532 623.46202532 623.46202532 623.46202532\n 623.46202532 623.46202532 623.46202532 623.46202532 623.46202532\n 623.46202532 623.46202532 623.46202532 623.46202532 623.46202532\n 623.46202532 623.46202532 623.46815287 623.46815287 623.46815287\n 623.46815287 623.46815287 623.46815287 623.47297297 623.47368421\n 623.47368421 623.47468354 623.48089172 623.48089172 623.48089172\n 623.48089172 623.48089172 623.48089172 623.48319328 623.48550725\n 623.48717949 623.48717949 623.49363057 623.49363057 623.81034483\n 623.98101266 623.98101266 623.98101266 623.98101266 623.98101266\n 623.99367089 624.01898734 624.02564103 624.02564103 624.02866242\n 624.03164557 624.03164557 624.03164557 624.03164557 624.03164557\n 624.0443038  624.05414013 624.05696203 624.07324841 624.07324841\n 624.08227848 624.08227848 624.08974359 624.09493671 624.09493671\n 624.10759494 624.12025316 624.13694268 624.14556962 624.14556962\n 624.14968153 624.20063694 624.23248408 624.23417722 624.23417722\n 624.25159236 624.25159236 624.25796178 624.2721519  624.2721519\n 624.28481013 624.29746835 624.29746835 624.29746835 624.29746835\n 624.29746835 624.32165605 624.33544304 624.33544304 624.34810127\n 624.34810127 624.37341772 624.37341772 624.37341772 624.37341772\n 624.38535032 624.38607595 624.39171975 624.39873418 624.4044586\n 624.42307692 624.42993631 624.43589744 624.43670886 624.44267516\n 624.44267516 624.44904459 624.44936709 624.44936709 624.44936709\n 624.46202532 624.46202532 624.5        624.51273885 624.51282051\n 624.53797468 624.53797468 624.53797468 624.56369427 624.57692308\n 624.57692308 624.62101911 624.64102564 624.67834395 624.67948718\n 624.67948718 624.68987342 624.68987342 624.80769231 624.81623932\n 624.8164557  624.8164557  624.82051282 624.82484076 624.85897436\n 624.9        624.94262295 625.1        625.125      625.44117647\n 625.5        625.5        625.5        625.5        625.5\n 625.5        625.5        625.5        625.5        625.5\n 625.5        625.5        625.5        625.5        625.55128205\n 625.5625     625.6        625.61764706 625.625      625.66666667\n 625.71487603 625.80136986 625.85087719 625.90350877 625.9173913\n 625.92857143 625.97457627 626.13157895 626.21929825 626.29279279\n 626.38461538 626.42307692 626.43333333].\nReshape your data either using array.reshape(-1, 1) if your data has a single feature or array.reshape(1, -1) if it contains a single sample."
     ]
    }
   ],
   "source": [
    "import numpy as np\n",
    "import matplotlib.pyplot as plt\n",
    "from sklearn.linear_model import RANSACRegressor\n",
    "from sklearn.linear_model import LinearRegression\n",
    "\n",
    "# Reshape x to match the required input shape for RANSACRegressor\n",
    "x_left = x.reshape(-1, 1)\n",
    "y=np.array(list(range(len(x_left))))\n",
    "y = y.reshape(-1, 1)\n",
    "\n",
    "# Create a RANSACRegressor object and specify the base estimator (LinearRegression)\n",
    "ransac = RANSACRegressor(base_estimator=LinearRegression(), random_state=0)\n",
    "\n",
    "# Fit the RANSAC model to the data\n",
    "ransac.fit(x, y)\n",
    "\n",
    "# Obtain the inlier mask from the RANSAC model\n",
    "inlier_mask = ransac.inlier_mask_\n",
    "\n",
    "# Obtain the outlier mask from the RANSAC model\n",
    "outlier_mask = np.logical_not(inlier_mask)\n",
    "\n",
    "# Extract the inlier points\n",
    "inlier_x = x[inlier_mask]\n",
    "inlier_y = y[inlier_mask]\n",
    "\n",
    "# Extract the outlier points\n",
    "outlier_x = x[outlier_mask]\n",
    "outlier_y = y[outlier_mask]\n",
    "\n",
    "# Get the estimated coefficients and intercept of the RANSAC model\n",
    "coefficients = ransac.estimator_.coef_\n",
    "intercept = ransac.estimator_.intercept_\n",
    "\n",
    "# Generate the line using the estimated coefficients and intercept\n",
    "line_x = np.array([x.min(), x.max()])\n",
    "line_y = coefficients * line_x + intercept\n",
    "\n",
    "# Plot the points\n",
    "plt.scatter(x, y, color='b', label='Data Points')\n",
    "\n",
    "# Plot the inliers\n",
    "plt.scatter(inlier_x, inlier_y, color='g', label='Inliers')\n",
    "\n",
    "# Plot the outliers\n",
    "plt.scatter(outlier_x, outlier_y, color='r', label='Outliers')\n",
    "\n",
    "# Plot the fitted line\n",
    "plt.plot(line_x, line_y, color='m', label='RANSAC Fit')\n",
    "\n",
    "# Set plot labels and title\n",
    "plt.xlabel('x')\n",
    "plt.ylabel('y')\n",
    "plt.title('RANSAC Fit')\n",
    "\n",
    "# Add legend\n",
    "plt.legend()\n",
    "\n",
    "# Show the plot\n",
    "plt.show()\n"
   ]
  },
  {
   "cell_type": "code",
   "execution_count": 86,
   "id": "a6eb77a1",
   "metadata": {},
   "outputs": [
    {
     "name": "stdout",
     "output_type": "stream",
     "text": [
      "Collecting scikit-learn==1.0.2\n",
      "  Downloading scikit_learn-1.0.2-cp38-cp38-manylinux_2_17_x86_64.manylinux2014_x86_64.whl (26.7 MB)\n",
      "\u001b[2K     \u001b[38;2;114;156;31m━━━━━━━━━━━━━━━━━━━━━━━━━━━━━━━━━━━━━━━━\u001b[0m \u001b[32m26.7/26.7 MB\u001b[0m \u001b[31m8.4 MB/s\u001b[0m eta \u001b[36m0:00:00\u001b[0m0m eta \u001b[36m0:00:01\u001b[0m0:01\u001b[0m:01\u001b[0m\n",
      "\u001b[?25hRequirement already satisfied: numpy>=1.14.6 in ./venv/lib/python3.8/site-packages (from scikit-learn==1.0.2) (1.19.0)\n",
      "Requirement already satisfied: scipy>=1.1.0 in ./venv/lib/python3.8/site-packages (from scikit-learn==1.0.2) (1.5.0)\n",
      "Collecting joblib>=0.11 (from scikit-learn==1.0.2)\n",
      "  Using cached joblib-1.3.1-py3-none-any.whl (301 kB)\n",
      "Collecting threadpoolctl>=2.0.0 (from scikit-learn==1.0.2)\n",
      "  Using cached threadpoolctl-3.1.0-py3-none-any.whl (14 kB)\n",
      "Installing collected packages: threadpoolctl, joblib, scikit-learn\n",
      "Successfully installed joblib-1.3.1 scikit-learn-1.0.2 threadpoolctl-3.1.0\n",
      "Note: you may need to restart the kernel to use updated packages.\n"
     ]
    }
   ],
   "source": [
    "pip install -U scikit-learn==1.0.2"
   ]
  },
  {
   "cell_type": "code",
   "execution_count": null,
   "id": "881d3687",
   "metadata": {},
   "outputs": [],
   "source": []
  }
 ],
 "metadata": {
  "kernelspec": {
   "display_name": "Python 3 (ipykernel)",
   "language": "python",
   "name": "python3"
  },
  "language_info": {
   "codemirror_mode": {
    "name": "ipython",
    "version": 3
   },
   "file_extension": ".py",
   "mimetype": "text/x-python",
   "name": "python",
   "nbconvert_exporter": "python",
   "pygments_lexer": "ipython3",
   "version": "3.8.0"
  }
 },
 "nbformat": 4,
 "nbformat_minor": 5
}
